{
 "cells": [
  {
   "cell_type": "markdown",
   "metadata": {},
   "source": [
    "### Exloración de datos "
   ]
  },
  {
   "cell_type": "code",
   "execution_count": 1,
   "metadata": {},
   "outputs": [],
   "source": [
    "import pandas as pd\n",
    "import matplotlib.pyplot as plt"
   ]
  },
  {
   "cell_type": "code",
   "execution_count": 2,
   "metadata": {},
   "outputs": [
    {
     "data": {
      "text/plain": [
       "Index(['MES', 'DIA', 'HORA', 'PROVINCIA', 'CANTON', 'ZONA', 'NUM_FALLECIDO',\n",
       "       'NUM_LESIONADO', 'TOTAL_VICTIMAS', 'CLASE', 'CAUSA'],\n",
       "      dtype='object')"
      ]
     },
     "execution_count": 2,
     "metadata": {},
     "output_type": "execute_result"
    }
   ],
   "source": [
    "data = pd.read_csv('data/siniestros-bdd.csv', encoding='utf-8', sep=';')\n",
    "data.columns"
   ]
  },
  {
   "cell_type": "code",
   "execution_count": 3,
   "metadata": {},
   "outputs": [
    {
     "data": {
      "text/plain": [
       "(24595, 11)"
      ]
     },
     "execution_count": 3,
     "metadata": {},
     "output_type": "execute_result"
    }
   ],
   "source": [
    "data.shape"
   ]
  },
  {
   "cell_type": "code",
   "execution_count": 4,
   "metadata": {},
   "outputs": [
    {
     "data": {
      "text/html": [
       "<div>\n",
       "<style scoped>\n",
       "    .dataframe tbody tr th:only-of-type {\n",
       "        vertical-align: middle;\n",
       "    }\n",
       "\n",
       "    .dataframe tbody tr th {\n",
       "        vertical-align: top;\n",
       "    }\n",
       "\n",
       "    .dataframe thead th {\n",
       "        text-align: right;\n",
       "    }\n",
       "</style>\n",
       "<table border=\"1\" class=\"dataframe\">\n",
       "  <thead>\n",
       "    <tr style=\"text-align: right;\">\n",
       "      <th></th>\n",
       "      <th>MES</th>\n",
       "      <th>DIA</th>\n",
       "      <th>HORA</th>\n",
       "      <th>PROVINCIA</th>\n",
       "      <th>CANTON</th>\n",
       "      <th>ZONA</th>\n",
       "      <th>NUM_FALLECIDO</th>\n",
       "      <th>NUM_LESIONADO</th>\n",
       "      <th>TOTAL_VICTIMAS</th>\n",
       "      <th>CLASE</th>\n",
       "      <th>CAUSA</th>\n",
       "    </tr>\n",
       "  </thead>\n",
       "  <tbody>\n",
       "    <tr>\n",
       "      <th>0</th>\n",
       "      <td>1</td>\n",
       "      <td>2</td>\n",
       "      <td>11</td>\n",
       "      <td>10</td>\n",
       "      <td>1004</td>\n",
       "      <td>1</td>\n",
       "      <td>0</td>\n",
       "      <td>0</td>\n",
       "      <td>0</td>\n",
       "      <td>7</td>\n",
       "      <td>4</td>\n",
       "    </tr>\n",
       "    <tr>\n",
       "      <th>1</th>\n",
       "      <td>1</td>\n",
       "      <td>2</td>\n",
       "      <td>23</td>\n",
       "      <td>10</td>\n",
       "      <td>1001</td>\n",
       "      <td>2</td>\n",
       "      <td>0</td>\n",
       "      <td>0</td>\n",
       "      <td>0</td>\n",
       "      <td>8</td>\n",
       "      <td>10</td>\n",
       "    </tr>\n",
       "    <tr>\n",
       "      <th>2</th>\n",
       "      <td>1</td>\n",
       "      <td>2</td>\n",
       "      <td>12</td>\n",
       "      <td>18</td>\n",
       "      <td>1801</td>\n",
       "      <td>1</td>\n",
       "      <td>0</td>\n",
       "      <td>3</td>\n",
       "      <td>3</td>\n",
       "      <td>3</td>\n",
       "      <td>7</td>\n",
       "    </tr>\n",
       "    <tr>\n",
       "      <th>3</th>\n",
       "      <td>1</td>\n",
       "      <td>2</td>\n",
       "      <td>7</td>\n",
       "      <td>18</td>\n",
       "      <td>1801</td>\n",
       "      <td>2</td>\n",
       "      <td>0</td>\n",
       "      <td>1</td>\n",
       "      <td>1</td>\n",
       "      <td>1</td>\n",
       "      <td>1</td>\n",
       "    </tr>\n",
       "    <tr>\n",
       "      <th>4</th>\n",
       "      <td>1</td>\n",
       "      <td>2</td>\n",
       "      <td>4</td>\n",
       "      <td>17</td>\n",
       "      <td>1701</td>\n",
       "      <td>1</td>\n",
       "      <td>0</td>\n",
       "      <td>0</td>\n",
       "      <td>0</td>\n",
       "      <td>4</td>\n",
       "      <td>3</td>\n",
       "    </tr>\n",
       "  </tbody>\n",
       "</table>\n",
       "</div>"
      ],
      "text/plain": [
       "   MES  DIA  HORA  PROVINCIA  CANTON  ZONA  NUM_FALLECIDO  NUM_LESIONADO  \\\n",
       "0    1    2    11         10    1004     1              0              0   \n",
       "1    1    2    23         10    1001     2              0              0   \n",
       "2    1    2    12         18    1801     1              0              3   \n",
       "3    1    2     7         18    1801     2              0              1   \n",
       "4    1    2     4         17    1701     1              0              0   \n",
       "\n",
       "   TOTAL_VICTIMAS  CLASE  CAUSA  \n",
       "0               0      7      4  \n",
       "1               0      8     10  \n",
       "2               3      3      7  \n",
       "3               1      1      1  \n",
       "4               0      4      3  "
      ]
     },
     "execution_count": 4,
     "metadata": {},
     "output_type": "execute_result"
    }
   ],
   "source": [
    "data.head()"
   ]
  },
  {
   "cell_type": "code",
   "execution_count": 5,
   "metadata": {},
   "outputs": [
    {
     "name": "stdout",
     "output_type": "stream",
     "text": [
      "<class 'pandas.core.frame.DataFrame'>\n",
      "RangeIndex: 24595 entries, 0 to 24594\n",
      "Data columns (total 11 columns):\n",
      " #   Column          Non-Null Count  Dtype\n",
      "---  ------          --------------  -----\n",
      " 0   MES             24595 non-null  int64\n",
      " 1   DIA             24595 non-null  int64\n",
      " 2   HORA            24595 non-null  int64\n",
      " 3   PROVINCIA       24595 non-null  int64\n",
      " 4   CANTON          24595 non-null  int64\n",
      " 5   ZONA            24595 non-null  int64\n",
      " 6   NUM_FALLECIDO   24595 non-null  int64\n",
      " 7   NUM_LESIONADO   24595 non-null  int64\n",
      " 8   TOTAL_VICTIMAS  24595 non-null  int64\n",
      " 9   CLASE           24595 non-null  int64\n",
      " 10  CAUSA           24595 non-null  int64\n",
      "dtypes: int64(11)\n",
      "memory usage: 2.1 MB\n"
     ]
    }
   ],
   "source": [
    "data.info()"
   ]
  },
  {
   "cell_type": "code",
   "execution_count": 6,
   "metadata": {},
   "outputs": [
    {
     "data": {
      "text/plain": [
       "MES               0\n",
       "DIA               0\n",
       "HORA              0\n",
       "PROVINCIA         0\n",
       "CANTON            0\n",
       "ZONA              0\n",
       "NUM_FALLECIDO     0\n",
       "NUM_LESIONADO     0\n",
       "TOTAL_VICTIMAS    0\n",
       "CLASE             0\n",
       "CAUSA             0\n",
       "dtype: int64"
      ]
     },
     "execution_count": 6,
     "metadata": {},
     "output_type": "execute_result"
    }
   ],
   "source": [
    "data.isnull().sum()"
   ]
  },
  {
   "cell_type": "code",
   "execution_count": 7,
   "metadata": {},
   "outputs": [
    {
     "data": {
      "text/plain": [
       "818"
      ]
     },
     "execution_count": 7,
     "metadata": {},
     "output_type": "execute_result"
    }
   ],
   "source": [
    "data.duplicated().sum()"
   ]
  },
  {
   "cell_type": "code",
   "execution_count": 8,
   "metadata": {},
   "outputs": [
    {
     "data": {
      "text/plain": [
       "(23777, 11)"
      ]
     },
     "execution_count": 8,
     "metadata": {},
     "output_type": "execute_result"
    }
   ],
   "source": [
    "data.drop_duplicates(inplace=True)\n",
    "data.shape"
   ]
  },
  {
   "cell_type": "code",
   "execution_count": 9,
   "metadata": {},
   "outputs": [
    {
     "name": "stdout",
     "output_type": "stream",
     "text": [
      "MES: 12\n",
      "DIA: 7\n",
      "HORA: 24\n",
      "PROVINCIA: 24\n",
      "CANTON: 172\n",
      "ZONA: 2\n",
      "NUM_FALLECIDO: 8\n",
      "NUM_LESIONADO: 22\n",
      "TOTAL_VICTIMAS: 23\n",
      "CLASE: 8\n",
      "CAUSA: 10\n"
     ]
    }
   ],
   "source": [
    "for col in data.columns:\n",
    "    print(f\"{col}: {data[col].value_counts().count()}\")"
   ]
  },
  {
   "cell_type": "code",
   "execution_count": 10,
   "metadata": {},
   "outputs": [],
   "source": [
    "data = data.drop(columns=['CANTON', 'MES'])"
   ]
  },
  {
   "cell_type": "code",
   "execution_count": 11,
   "metadata": {},
   "outputs": [
    {
     "name": "stdout",
     "output_type": "stream",
     "text": [
      "<class 'pandas.core.frame.DataFrame'>\n",
      "Index: 23777 entries, 0 to 24594\n",
      "Data columns (total 9 columns):\n",
      " #   Column          Non-Null Count  Dtype   \n",
      "---  ------          --------------  -----   \n",
      " 0   DIA             23777 non-null  category\n",
      " 1   HORA            23777 non-null  category\n",
      " 2   PROVINCIA       23777 non-null  category\n",
      " 3   ZONA            23777 non-null  category\n",
      " 4   NUM_FALLECIDO   23777 non-null  int64   \n",
      " 5   NUM_LESIONADO   23777 non-null  int64   \n",
      " 6   TOTAL_VICTIMAS  23777 non-null  int64   \n",
      " 7   CLASE           23777 non-null  category\n",
      " 8   CAUSA           23777 non-null  category\n",
      "dtypes: category(6), int64(3)\n",
      "memory usage: 885.0 KB\n"
     ]
    }
   ],
   "source": [
    "categories = ['DIA', 'HORA', 'PROVINCIA', 'ZONA', 'CLASE', 'CAUSA']\n",
    "for cat in categories:\n",
    "    data[cat] = data[cat].astype('category')\n",
    "\n",
    "data.info()"
   ]
  },
  {
   "cell_type": "markdown",
   "metadata": {},
   "source": [
    "## Visualización de datos"
   ]
  },
  {
   "cell_type": "markdown",
   "metadata": {},
   "source": [
    "### Mapeo de etiquetas"
   ]
  },
  {
   "cell_type": "code",
   "execution_count": 12,
   "metadata": {},
   "outputs": [
    {
     "data": {
      "text/plain": [
       "CLASE\n",
       "Choques              10981\n",
       "Atropellos            3811\n",
       "Estrellamientos       3100\n",
       "Pérdida de pista      2997\n",
       "Rozamientos           1220\n",
       "Caída de pasajero      696\n",
       "Otros                  558\n",
       "Volcamientos           414\n",
       "Name: count, dtype: int64"
      ]
     },
     "execution_count": 12,
     "metadata": {},
     "output_type": "execute_result"
    }
   ],
   "source": [
    "clase_siniestro_dict = {\n",
    "    1: 'Atropellos',\n",
    "    2: 'Caída de pasajero',\n",
    "    3: 'Choques',\n",
    "    4: 'Estrellamientos',\n",
    "    5: 'Rozamientos',\n",
    "    6: 'Volcamientos',\n",
    "    7: 'Pérdida de pista',\n",
    "    8: 'Otros'\n",
    "}\n",
    "\n",
    "clase_siniestro_mapped = data['CLASE'].map(clase_siniestro_dict )\n",
    "clase_siniestro_mapped.value_counts()"
   ]
  },
  {
   "cell_type": "code",
   "execution_count": 13,
   "metadata": {},
   "outputs": [
    {
     "data": {
      "text/plain": [
       "CAUSA\n",
       "IMPERICIA E IMPRUDENCIA DEL CONDUCTOR    11575\n",
       "EXCESO VELOCIDAD                          3680\n",
       "NO RESPETA LAS SEÑALES DE TRÁNSITO        2979\n",
       "EMBRIAGUEZ O DROGA                        1776\n",
       "MAL REBASAMIENTO INVADIR CARRIL           1724\n",
       "IMPRUDENCIA  DEL PEATÓN                   1229\n",
       "FACTORES CLIMÁTICOS                        230\n",
       "MAL ESTADO DE LA VÍA                       220\n",
       "OTRAS CAUSAS                               194\n",
       "DAÑOS MECÁNICOS                            170\n",
       "Name: count, dtype: int64"
      ]
     },
     "execution_count": 13,
     "metadata": {},
     "output_type": "execute_result"
    }
   ],
   "source": [
    "causa_siniestro_dict = {1:\"EMBRIAGUEZ O DROGA\",\n",
    "2:\"MAL REBASAMIENTO INVADIR CARRIL\",\n",
    "3:\"EXCESO VELOCIDAD\",\n",
    "4:\"IMPERICIA E IMPRUDENCIA DEL CONDUCTOR\",\n",
    "5:\"IMPRUDENCIA  DEL PEATÓN\",\n",
    "6:\"DAÑOS MECÁNICOS\",\n",
    "7:\"NO RESPETA LAS SEÑALES DE TRÁNSITO\",\n",
    "8:\"FACTORES CLIMÁTICOS\",\n",
    "9:\"MAL ESTADO DE LA VÍA\",\n",
    "10:\"OTRAS CAUSAS\"}\n",
    "\n",
    "causa_siniestro_mapped = data['CAUSA'].map(causa_siniestro_dict)\n",
    "causa_siniestro_mapped.value_counts()"
   ]
  },
  {
   "cell_type": "code",
   "execution_count": 14,
   "metadata": {},
   "outputs": [
    {
     "data": {
      "text/html": [
       "<div>\n",
       "<style scoped>\n",
       "    .dataframe tbody tr th:only-of-type {\n",
       "        vertical-align: middle;\n",
       "    }\n",
       "\n",
       "    .dataframe tbody tr th {\n",
       "        vertical-align: top;\n",
       "    }\n",
       "\n",
       "    .dataframe thead th {\n",
       "        text-align: right;\n",
       "    }\n",
       "</style>\n",
       "<table border=\"1\" class=\"dataframe\">\n",
       "  <thead>\n",
       "    <tr style=\"text-align: right;\">\n",
       "      <th></th>\n",
       "      <th>DIA</th>\n",
       "      <th>HORA</th>\n",
       "      <th>PROVINCIA</th>\n",
       "      <th>ZONA</th>\n",
       "      <th>NUM_FALLECIDO</th>\n",
       "      <th>NUM_LESIONADO</th>\n",
       "      <th>TOTAL_VICTIMAS</th>\n",
       "      <th>CLASE</th>\n",
       "      <th>CAUSA</th>\n",
       "      <th>CLASE_LABEL</th>\n",
       "      <th>CAUSA_LABEL</th>\n",
       "    </tr>\n",
       "  </thead>\n",
       "  <tbody>\n",
       "    <tr>\n",
       "      <th>0</th>\n",
       "      <td>2</td>\n",
       "      <td>11</td>\n",
       "      <td>10</td>\n",
       "      <td>1</td>\n",
       "      <td>0</td>\n",
       "      <td>0</td>\n",
       "      <td>0</td>\n",
       "      <td>7</td>\n",
       "      <td>4</td>\n",
       "      <td>Pérdida de pista</td>\n",
       "      <td>IMPERICIA E IMPRUDENCIA DEL CONDUCTOR</td>\n",
       "    </tr>\n",
       "    <tr>\n",
       "      <th>1</th>\n",
       "      <td>2</td>\n",
       "      <td>23</td>\n",
       "      <td>10</td>\n",
       "      <td>2</td>\n",
       "      <td>0</td>\n",
       "      <td>0</td>\n",
       "      <td>0</td>\n",
       "      <td>8</td>\n",
       "      <td>10</td>\n",
       "      <td>Otros</td>\n",
       "      <td>OTRAS CAUSAS</td>\n",
       "    </tr>\n",
       "    <tr>\n",
       "      <th>2</th>\n",
       "      <td>2</td>\n",
       "      <td>12</td>\n",
       "      <td>18</td>\n",
       "      <td>1</td>\n",
       "      <td>0</td>\n",
       "      <td>3</td>\n",
       "      <td>3</td>\n",
       "      <td>3</td>\n",
       "      <td>7</td>\n",
       "      <td>Choques</td>\n",
       "      <td>NO RESPETA LAS SEÑALES DE TRÁNSITO</td>\n",
       "    </tr>\n",
       "    <tr>\n",
       "      <th>3</th>\n",
       "      <td>2</td>\n",
       "      <td>7</td>\n",
       "      <td>18</td>\n",
       "      <td>2</td>\n",
       "      <td>0</td>\n",
       "      <td>1</td>\n",
       "      <td>1</td>\n",
       "      <td>1</td>\n",
       "      <td>1</td>\n",
       "      <td>Atropellos</td>\n",
       "      <td>EMBRIAGUEZ O DROGA</td>\n",
       "    </tr>\n",
       "    <tr>\n",
       "      <th>4</th>\n",
       "      <td>2</td>\n",
       "      <td>4</td>\n",
       "      <td>17</td>\n",
       "      <td>1</td>\n",
       "      <td>0</td>\n",
       "      <td>0</td>\n",
       "      <td>0</td>\n",
       "      <td>4</td>\n",
       "      <td>3</td>\n",
       "      <td>Estrellamientos</td>\n",
       "      <td>EXCESO VELOCIDAD</td>\n",
       "    </tr>\n",
       "  </tbody>\n",
       "</table>\n",
       "</div>"
      ],
      "text/plain": [
       "  DIA HORA PROVINCIA ZONA  NUM_FALLECIDO  NUM_LESIONADO  TOTAL_VICTIMAS CLASE  \\\n",
       "0   2   11        10    1              0              0               0     7   \n",
       "1   2   23        10    2              0              0               0     8   \n",
       "2   2   12        18    1              0              3               3     3   \n",
       "3   2    7        18    2              0              1               1     1   \n",
       "4   2    4        17    1              0              0               0     4   \n",
       "\n",
       "  CAUSA       CLASE_LABEL                            CAUSA_LABEL  \n",
       "0     4  Pérdida de pista  IMPERICIA E IMPRUDENCIA DEL CONDUCTOR  \n",
       "1    10             Otros                           OTRAS CAUSAS  \n",
       "2     7           Choques     NO RESPETA LAS SEÑALES DE TRÁNSITO  \n",
       "3     1        Atropellos                     EMBRIAGUEZ O DROGA  \n",
       "4     3   Estrellamientos                       EXCESO VELOCIDAD  "
      ]
     },
     "execution_count": 14,
     "metadata": {},
     "output_type": "execute_result"
    }
   ],
   "source": [
    "data_labels = data.assign(CLASE_LABEL=clase_siniestro_mapped, CAUSA_LABEL=causa_siniestro_mapped)\n",
    "data_labels.head()"
   ]
  },
  {
   "cell_type": "markdown",
   "metadata": {},
   "source": [
    "### Visualización"
   ]
  },
  {
   "cell_type": "code",
   "execution_count": 15,
   "metadata": {},
   "outputs": [
    {
     "data": {
      "text/plain": [
       "[Text(0, 0, '10325'),\n",
       " Text(0, 0, '9127'),\n",
       " Text(0, 0, '2953'),\n",
       " Text(0, 0, '808'),\n",
       " Text(0, 0, '285'),\n",
       " Text(0, 0, '127'),\n",
       " Text(0, 0, '67'),\n",
       " Text(0, 0, '23'),\n",
       " Text(0, 0, '21'),\n",
       " Text(0, 0, '8'),\n",
       " Text(0, 0, '7'),\n",
       " Text(0, 0, '5')]"
      ]
     },
     "execution_count": 15,
     "metadata": {},
     "output_type": "execute_result"
    },
    {
     "data": {
      "image/png": "[encoded data removed]",
      "text/plain": [
       "<Figure size 640x480 with 1 Axes>"
      ]
     },
     "metadata": {},
     "output_type": "display_data"
    }
   ],
   "source": [
    "total_vict_data = data_labels[\"TOTAL_VICTIMAS\"].value_counts().sort_index()\n",
    "fig = total_vict_data.sort_values(ascending=False).head(12).plot(kind='bar')\n",
    "\n",
    "plt.title('Total Victimas por siniestro')\n",
    "plt.bar_label(fig.containers[0])"
   ]
  },
  {
   "cell_type": "code",
   "execution_count": 16,
   "metadata": {},
   "outputs": [
    {
     "data": {
      "text/plain": [
       "[Text(0, 0, '21810'),\n",
       " Text(0, 0, '1810'),\n",
       " Text(0, 0, '127'),\n",
       " Text(0, 0, '18'),\n",
       " Text(0, 0, '5'),\n",
       " Text(0, 0, '4'),\n",
       " Text(0, 0, '2'),\n",
       " Text(0, 0, '1')]"
      ]
     },
     "execution_count": 16,
     "metadata": {},
     "output_type": "execute_result"
    },
    {
     "data": {
      "image/png": "[encoded data removed]",
      "text/plain": [
       "<Figure size 640x480 with 1 Axes>"
      ]
     },
     "metadata": {},
     "output_type": "display_data"
    }
   ],
   "source": [
    "fallecidos_data = data_labels[\"NUM_FALLECIDO\"].value_counts().sort_index()\n",
    "fallecidos_data.sort_values(ascending=False).head(12).plot(kind='bar')\n",
    "\n",
    "plt.title('Número fallecidos por siniestro')\n",
    "plt.bar_label(plt.bar(fallecidos_data.index, fallecidos_data.values))"
   ]
  },
  {
   "cell_type": "code",
   "execution_count": 17,
   "metadata": {},
   "outputs": [
    {
     "data": {
      "text/plain": [
       "[Text(0, 0, '1410'),\n",
       " Text(0, 0, '1255'),\n",
       " Text(0, 0, '1200'),\n",
       " Text(0, 0, '1180'),\n",
       " Text(0, 0, '1180'),\n",
       " Text(0, 0, '1175'),\n",
       " Text(0, 0, '1153'),\n",
       " Text(0, 0, '1080')]"
      ]
     },
     "execution_count": 17,
     "metadata": {},
     "output_type": "execute_result"
    },
    {
     "data": {
      "image/png": "[encoded data removed]",
      "text/plain": [
       "<Figure size 640x480 with 1 Axes>"
      ]
     },
     "metadata": {},
     "output_type": "display_data"
    }
   ],
   "source": [
    "horas = {\n",
    "    0: \"00:00 A 00:59\",\n",
    "    1: \"01:00 A 01:59\",\n",
    "    2: \"02:00 A 02:59\",\n",
    "    3: \"03:00 A 03:59\",\n",
    "    4: \"04:00 A 04:59\",\n",
    "    5: \"05:00 A 05:59\",\n",
    "    6: \"06:00 A 06:59\",\n",
    "    7: \"07:00 A 07:59\",\n",
    "    8: \"08:00 A 08:59\",\n",
    "    9: \"09:00 A 09:59\",\n",
    "    10: \"10:00 A 10:59\",\n",
    "    11: \"11:00 A 11:59\",\n",
    "    12: \"12:00 A 12:59\",\n",
    "    13: \"13:00 A 13:59\",\n",
    "    14: \"14:00 A 14:59\",\n",
    "    15: \"15:00 A 15:59\",\n",
    "    16: \"16:00 A 16:59\",\n",
    "    17: \"17:00 A 17:59\",\n",
    "    18: \"18:00 A 18:59\",\n",
    "    19: \"19:00 A 19:59\",\n",
    "    20: \"20:00 A 20:59\",\n",
    "    21: \"21:00 A 21:59\",\n",
    "    22: \"22:00 A 22:59\",\n",
    "    23: \"23:00 A 23:59\"\n",
    "}\n",
    "\n",
    "horas_data = data_labels[\"HORA\"].value_counts().sort_index()\n",
    "horas_data.index = horas_data.index.map(horas)\n",
    "\n",
    "fig = horas_data.sort_values(ascending=False).head(8).plot(kind='bar')\n",
    "\n",
    "plt.title('Horas con mayor número de siniestros')\n",
    "plt.xticks(rotation=50)\n",
    "plt.bar_label(fig.containers[0],label_type='edge')"
   ]
  },
  {
   "cell_type": "code",
   "execution_count": 18,
   "metadata": {},
   "outputs": [
    {
     "data": {
      "text/plain": [
       "Text(0.5, 1.0, 'Total de victimas por siniestro')"
      ]
     },
     "execution_count": 18,
     "metadata": {},
     "output_type": "execute_result"
    },
    {
     "data": {
      "image/png": "[encoded data removed]",
      "text/plain": [
       "<Figure size 640x480 with 1 Axes>"
      ]
     },
     "metadata": {},
     "output_type": "display_data"
    }
   ],
   "source": [
    "data_labels[\"CAUSA_LABEL\"].value_counts().sort_index().plot(kind='barh')\n",
    "\n",
    "plt.title('Total de victimas por siniestro')\n"
   ]
  },
  {
   "cell_type": "code",
   "execution_count": 19,
   "metadata": {},
   "outputs": [
    {
     "data": {
      "text/plain": [
       "Text(0.5, 1.0, 'Siniestros por día')"
      ]
     },
     "execution_count": 19,
     "metadata": {},
     "output_type": "execute_result"
    },
    {
     "data": {
      "image/png": "[encoded data removed]",
      "text/plain": [
       "<Figure size 640x480 with 1 Axes>"
      ]
     },
     "metadata": {},
     "output_type": "display_data"
    }
   ],
   "source": [
    "dia_percent = data_labels['DIA'].value_counts().sort_index()\n",
    "dia_percent = round(dia_percent / dia_percent.sum() * 100,2)\n",
    "dia_percent.plot(kind='pie', labels = [\"Lunes\", \"Martes\", \"Miércoles\", \"Jueves\", \"Viernes\", \"Sábado\", \"Domingo\"], autopct='%1.1f%%')\n",
    "\n",
    "plt.title('Siniestros por día')"
   ]
  },
  {
   "cell_type": "code",
   "execution_count": 20,
   "metadata": {},
   "outputs": [
    {
     "name": "stderr",
     "output_type": "stream",
     "text": [
      "C:\\Users\\luisc\\AppData\\Local\\Temp\\ipykernel_2812\\273372520.py:1: FutureWarning: The default of observed=False is deprecated and will be changed to True in a future version of pandas. Pass observed=False to retain current behavior or observed=True to adopt the future default and silence this warning.\n",
      "  clase_zona = data_labels.groupby(['CLASE_LABEL', 'ZONA']).size().unstack()\n"
     ]
    },
    {
     "data": {
      "text/plain": [
       "<matplotlib.legend.Legend at 0x1ebe935b350>"
      ]
     },
     "execution_count": 20,
     "metadata": {},
     "output_type": "execute_result"
    },
    {
     "data": {
      "image/png": "[encoded data removed]",
      "text/plain": [
       "<Figure size 640x480 with 1 Axes>"
      ]
     },
     "metadata": {},
     "output_type": "display_data"
    }
   ],
   "source": [
    "clase_zona = data_labels.groupby(['CLASE_LABEL', 'ZONA']).size().unstack()\n",
    "\n",
    "clase_zona.plot(kind='barh')\n",
    "plt.legend(title='Zona', labels = [\"Urbana\", \"Rural\"])\n"
   ]
  },
  {
   "cell_type": "markdown",
   "metadata": {},
   "source": [
    "## Preparación de datos"
   ]
  },
  {
   "cell_type": "code",
   "execution_count": 21,
   "metadata": {},
   "outputs": [
    {
     "data": {
      "text/plain": [
       "Index(['MES', 'DIA', 'HORA', 'PROVINCIA', 'CANTON', 'ZONA', 'NUM_FALLECIDO',\n",
       "       'NUM_LESIONADO', 'TOTAL_VICTIMAS', 'CLASE', 'CAUSA'],\n",
       "      dtype='object')"
      ]
     },
     "execution_count": 21,
     "metadata": {},
     "output_type": "execute_result"
    }
   ],
   "source": [
    "data_prep = pd.read_csv('data/siniestros-bdd.csv', encoding='utf-8', sep=';')\n",
    "data_prep.columns"
   ]
  },
  {
   "cell_type": "code",
   "execution_count": 22,
   "metadata": {},
   "outputs": [
    {
     "data": {
      "text/plain": [
       "(24595, 11)"
      ]
     },
     "execution_count": 22,
     "metadata": {},
     "output_type": "execute_result"
    }
   ],
   "source": [
    "data_prep.shape"
   ]
  },
  {
   "cell_type": "code",
   "execution_count": 23,
   "metadata": {},
   "outputs": [
    {
     "data": {
      "text/plain": [
       "MES               0\n",
       "DIA               0\n",
       "HORA              0\n",
       "PROVINCIA         0\n",
       "CANTON            0\n",
       "ZONA              0\n",
       "NUM_FALLECIDO     0\n",
       "NUM_LESIONADO     0\n",
       "TOTAL_VICTIMAS    0\n",
       "CLASE             0\n",
       "CAUSA             0\n",
       "dtype: int64"
      ]
     },
     "execution_count": 23,
     "metadata": {},
     "output_type": "execute_result"
    }
   ],
   "source": [
    "data_prep.isnull().sum()"
   ]
  },
  {
   "cell_type": "code",
   "execution_count": 24,
   "metadata": {},
   "outputs": [
    {
     "data": {
      "text/plain": [
       "818"
      ]
     },
     "execution_count": 24,
     "metadata": {},
     "output_type": "execute_result"
    }
   ],
   "source": [
    "data_prep.duplicated().sum()"
   ]
  },
  {
   "cell_type": "code",
   "execution_count": 25,
   "metadata": {},
   "outputs": [
    {
     "data": {
      "text/plain": [
       "(23777, 11)"
      ]
     },
     "execution_count": 25,
     "metadata": {},
     "output_type": "execute_result"
    }
   ],
   "source": [
    "data_prep.drop_duplicates(inplace=True)\n",
    "data_prep.shape"
   ]
  },
  {
   "cell_type": "code",
   "execution_count": 26,
   "metadata": {},
   "outputs": [],
   "source": [
    "data_prep = data_prep.drop(columns=['CANTON', 'MES', \"TOTAL_VICTIMAS\"])"
   ]
  },
  {
   "cell_type": "code",
   "execution_count": 27,
   "metadata": {},
   "outputs": [
    {
     "name": "stdout",
     "output_type": "stream",
     "text": [
      "<class 'pandas.core.frame.DataFrame'>\n",
      "Index: 23777 entries, 0 to 24594\n",
      "Data columns (total 8 columns):\n",
      " #   Column         Non-Null Count  Dtype   \n",
      "---  ------         --------------  -----   \n",
      " 0   DIA            23777 non-null  int64   \n",
      " 1   HORA           23777 non-null  int64   \n",
      " 2   PROVINCIA      23777 non-null  category\n",
      " 3   ZONA           23777 non-null  category\n",
      " 4   NUM_FALLECIDO  23777 non-null  int64   \n",
      " 5   NUM_LESIONADO  23777 non-null  int64   \n",
      " 6   CLASE          23777 non-null  category\n",
      " 7   CAUSA          23777 non-null  category\n",
      "dtypes: category(4), int64(4)\n",
      "memory usage: 1023.2 KB\n"
     ]
    }
   ],
   "source": [
    "categories = ['PROVINCIA', 'ZONA', 'CLASE', 'CAUSA']\n",
    "for cat in categories:\n",
    "    data_prep[cat] = data_prep[cat].astype('category')\n",
    "data_prep.info()"
   ]
  },
  {
   "cell_type": "code",
   "execution_count": 28,
   "metadata": {},
   "outputs": [
    {
     "data": {
      "image/png": "[encoded data removed]",
      "text/plain": [
       "<Figure size 2000x2000 with 2 Axes>"
      ]
     },
     "metadata": {},
     "output_type": "display_data"
    }
   ],
   "source": [
    "import seaborn as sns\n",
    "corrmat = data_prep.corr(method='pearson')\n",
    "top_corr_features = corrmat.index\n",
    "\n",
    "plt.figure(figsize=(20,20))\n",
    "\n",
    "g=sns.heatmap(data_prep[top_corr_features].corr(),annot=True,cmap=\"RdYlGn\")"
   ]
  },
  {
   "cell_type": "markdown",
   "metadata": {},
   "source": [
    "## TRASNFORMACIÓN"
   ]
  },
  {
   "cell_type": "code",
   "execution_count": 29,
   "metadata": {},
   "outputs": [
    {
     "name": "stdout",
     "output_type": "stream",
     "text": [
      "(23777, 44)\n"
     ]
    },
    {
     "data": {
      "text/html": [
       "<div>\n",
       "<style scoped>\n",
       "    .dataframe tbody tr th:only-of-type {\n",
       "        vertical-align: middle;\n",
       "    }\n",
       "\n",
       "    .dataframe tbody tr th {\n",
       "        vertical-align: top;\n",
       "    }\n",
       "\n",
       "    .dataframe thead th {\n",
       "        text-align: right;\n",
       "    }\n",
       "</style>\n",
       "<table border=\"1\" class=\"dataframe\">\n",
       "  <thead>\n",
       "    <tr style=\"text-align: right;\">\n",
       "      <th></th>\n",
       "      <th>PROVINCIA_1</th>\n",
       "      <th>PROVINCIA_2</th>\n",
       "      <th>PROVINCIA_3</th>\n",
       "      <th>PROVINCIA_4</th>\n",
       "      <th>PROVINCIA_5</th>\n",
       "      <th>PROVINCIA_6</th>\n",
       "      <th>PROVINCIA_7</th>\n",
       "      <th>PROVINCIA_8</th>\n",
       "      <th>PROVINCIA_9</th>\n",
       "      <th>PROVINCIA_10</th>\n",
       "      <th>...</th>\n",
       "      <th>CAUSA_1</th>\n",
       "      <th>CAUSA_2</th>\n",
       "      <th>CAUSA_3</th>\n",
       "      <th>CAUSA_4</th>\n",
       "      <th>CAUSA_5</th>\n",
       "      <th>CAUSA_6</th>\n",
       "      <th>CAUSA_7</th>\n",
       "      <th>CAUSA_8</th>\n",
       "      <th>CAUSA_9</th>\n",
       "      <th>CAUSA_10</th>\n",
       "    </tr>\n",
       "  </thead>\n",
       "  <tbody>\n",
       "    <tr>\n",
       "      <th>0</th>\n",
       "      <td>0</td>\n",
       "      <td>0</td>\n",
       "      <td>0</td>\n",
       "      <td>0</td>\n",
       "      <td>0</td>\n",
       "      <td>0</td>\n",
       "      <td>0</td>\n",
       "      <td>0</td>\n",
       "      <td>0</td>\n",
       "      <td>1</td>\n",
       "      <td>...</td>\n",
       "      <td>0</td>\n",
       "      <td>0</td>\n",
       "      <td>0</td>\n",
       "      <td>1</td>\n",
       "      <td>0</td>\n",
       "      <td>0</td>\n",
       "      <td>0</td>\n",
       "      <td>0</td>\n",
       "      <td>0</td>\n",
       "      <td>0</td>\n",
       "    </tr>\n",
       "    <tr>\n",
       "      <th>1</th>\n",
       "      <td>0</td>\n",
       "      <td>0</td>\n",
       "      <td>0</td>\n",
       "      <td>0</td>\n",
       "      <td>0</td>\n",
       "      <td>0</td>\n",
       "      <td>0</td>\n",
       "      <td>0</td>\n",
       "      <td>0</td>\n",
       "      <td>1</td>\n",
       "      <td>...</td>\n",
       "      <td>0</td>\n",
       "      <td>0</td>\n",
       "      <td>0</td>\n",
       "      <td>0</td>\n",
       "      <td>0</td>\n",
       "      <td>0</td>\n",
       "      <td>0</td>\n",
       "      <td>0</td>\n",
       "      <td>0</td>\n",
       "      <td>1</td>\n",
       "    </tr>\n",
       "    <tr>\n",
       "      <th>2</th>\n",
       "      <td>0</td>\n",
       "      <td>0</td>\n",
       "      <td>0</td>\n",
       "      <td>0</td>\n",
       "      <td>0</td>\n",
       "      <td>0</td>\n",
       "      <td>0</td>\n",
       "      <td>0</td>\n",
       "      <td>0</td>\n",
       "      <td>0</td>\n",
       "      <td>...</td>\n",
       "      <td>0</td>\n",
       "      <td>0</td>\n",
       "      <td>0</td>\n",
       "      <td>0</td>\n",
       "      <td>0</td>\n",
       "      <td>0</td>\n",
       "      <td>1</td>\n",
       "      <td>0</td>\n",
       "      <td>0</td>\n",
       "      <td>0</td>\n",
       "    </tr>\n",
       "    <tr>\n",
       "      <th>3</th>\n",
       "      <td>0</td>\n",
       "      <td>0</td>\n",
       "      <td>0</td>\n",
       "      <td>0</td>\n",
       "      <td>0</td>\n",
       "      <td>0</td>\n",
       "      <td>0</td>\n",
       "      <td>0</td>\n",
       "      <td>0</td>\n",
       "      <td>0</td>\n",
       "      <td>...</td>\n",
       "      <td>1</td>\n",
       "      <td>0</td>\n",
       "      <td>0</td>\n",
       "      <td>0</td>\n",
       "      <td>0</td>\n",
       "      <td>0</td>\n",
       "      <td>0</td>\n",
       "      <td>0</td>\n",
       "      <td>0</td>\n",
       "      <td>0</td>\n",
       "    </tr>\n",
       "    <tr>\n",
       "      <th>4</th>\n",
       "      <td>0</td>\n",
       "      <td>0</td>\n",
       "      <td>0</td>\n",
       "      <td>0</td>\n",
       "      <td>0</td>\n",
       "      <td>0</td>\n",
       "      <td>0</td>\n",
       "      <td>0</td>\n",
       "      <td>0</td>\n",
       "      <td>0</td>\n",
       "      <td>...</td>\n",
       "      <td>0</td>\n",
       "      <td>0</td>\n",
       "      <td>1</td>\n",
       "      <td>0</td>\n",
       "      <td>0</td>\n",
       "      <td>0</td>\n",
       "      <td>0</td>\n",
       "      <td>0</td>\n",
       "      <td>0</td>\n",
       "      <td>0</td>\n",
       "    </tr>\n",
       "  </tbody>\n",
       "</table>\n",
       "<p>5 rows × 44 columns</p>\n",
       "</div>"
      ],
      "text/plain": [
       "   PROVINCIA_1  PROVINCIA_2  PROVINCIA_3  PROVINCIA_4  PROVINCIA_5  \\\n",
       "0            0            0            0            0            0   \n",
       "1            0            0            0            0            0   \n",
       "2            0            0            0            0            0   \n",
       "3            0            0            0            0            0   \n",
       "4            0            0            0            0            0   \n",
       "\n",
       "   PROVINCIA_6  PROVINCIA_7  PROVINCIA_8  PROVINCIA_9  PROVINCIA_10  ...  \\\n",
       "0            0            0            0            0             1  ...   \n",
       "1            0            0            0            0             1  ...   \n",
       "2            0            0            0            0             0  ...   \n",
       "3            0            0            0            0             0  ...   \n",
       "4            0            0            0            0             0  ...   \n",
       "\n",
       "   CAUSA_1  CAUSA_2  CAUSA_3  CAUSA_4  CAUSA_5  CAUSA_6  CAUSA_7  CAUSA_8  \\\n",
       "0        0        0        0        1        0        0        0        0   \n",
       "1        0        0        0        0        0        0        0        0   \n",
       "2        0        0        0        0        0        0        1        0   \n",
       "3        1        0        0        0        0        0        0        0   \n",
       "4        0        0        1        0        0        0        0        0   \n",
       "\n",
       "   CAUSA_9  CAUSA_10  \n",
       "0        0         0  \n",
       "1        0         1  \n",
       "2        0         0  \n",
       "3        0         0  \n",
       "4        0         0  \n",
       "\n",
       "[5 rows x 44 columns]"
      ]
     },
     "execution_count": 29,
     "metadata": {},
     "output_type": "execute_result"
    }
   ],
   "source": [
    "categorical_data = data_prep.select_dtypes(include='category')\n",
    "transform_cat_data = pd.get_dummies(categorical_data, columns= categories, drop_first=False, dtype=int)\n",
    "print(transform_cat_data.shape)\n",
    "transform_cat_data.head()"
   ]
  },
  {
   "cell_type": "code",
   "execution_count": 30,
   "metadata": {},
   "outputs": [
    {
     "data": {
      "text/plain": [
       "array([[-0.27719525, -0.74141548],\n",
       "       [-0.27719525, -0.74141548],\n",
       "       [-0.27719525,  1.96111952],\n",
       "       ...,\n",
       "       [-0.27719525, -0.74141548],\n",
       "       [-0.27719525,  0.15942952],\n",
       "       [ 2.74891657,  0.15942952]])"
      ]
     },
     "execution_count": 30,
     "metadata": {},
     "output_type": "execute_result"
    }
   ],
   "source": [
    "from sklearn.preprocessing import StandardScaler\n",
    "\n",
    "scaler = StandardScaler()\n",
    "numerical_data = data_prep[['NUM_FALLECIDO', 'NUM_LESIONADO']]\n",
    "numerical_data_scaled = scaler.fit_transform(numerical_data)\n",
    "numerical_data_scaled"
   ]
  },
  {
   "cell_type": "code",
   "execution_count": 31,
   "metadata": {},
   "outputs": [
    {
     "data": {
      "text/plain": [
       "(23777, 2)"
      ]
     },
     "execution_count": 31,
     "metadata": {},
     "output_type": "execute_result"
    }
   ],
   "source": [
    "numerical_data_scaled = pd.DataFrame(numerical_data_scaled, columns=numerical_data.columns)\n",
    "numerical_data_scaled.shape"
   ]
  },
  {
   "cell_type": "code",
   "execution_count": 32,
   "metadata": {},
   "outputs": [
    {
     "data": {
      "text/html": [
       "<div>\n",
       "<style scoped>\n",
       "    .dataframe tbody tr th:only-of-type {\n",
       "        vertical-align: middle;\n",
       "    }\n",
       "\n",
       "    .dataframe tbody tr th {\n",
       "        vertical-align: top;\n",
       "    }\n",
       "\n",
       "    .dataframe thead th {\n",
       "        text-align: right;\n",
       "    }\n",
       "</style>\n",
       "<table border=\"1\" class=\"dataframe\">\n",
       "  <thead>\n",
       "    <tr style=\"text-align: right;\">\n",
       "      <th></th>\n",
       "      <th>NUM_FALLECIDO</th>\n",
       "      <th>NUM_LESIONADO</th>\n",
       "      <th>PROVINCIA_1</th>\n",
       "      <th>PROVINCIA_2</th>\n",
       "      <th>PROVINCIA_3</th>\n",
       "      <th>PROVINCIA_4</th>\n",
       "      <th>PROVINCIA_5</th>\n",
       "      <th>PROVINCIA_6</th>\n",
       "      <th>PROVINCIA_7</th>\n",
       "      <th>PROVINCIA_8</th>\n",
       "      <th>...</th>\n",
       "      <th>CAUSA_1</th>\n",
       "      <th>CAUSA_2</th>\n",
       "      <th>CAUSA_3</th>\n",
       "      <th>CAUSA_4</th>\n",
       "      <th>CAUSA_5</th>\n",
       "      <th>CAUSA_6</th>\n",
       "      <th>CAUSA_7</th>\n",
       "      <th>CAUSA_8</th>\n",
       "      <th>CAUSA_9</th>\n",
       "      <th>CAUSA_10</th>\n",
       "    </tr>\n",
       "  </thead>\n",
       "  <tbody>\n",
       "    <tr>\n",
       "      <th>0</th>\n",
       "      <td>-0.277195</td>\n",
       "      <td>-0.741415</td>\n",
       "      <td>0</td>\n",
       "      <td>0</td>\n",
       "      <td>0</td>\n",
       "      <td>0</td>\n",
       "      <td>0</td>\n",
       "      <td>0</td>\n",
       "      <td>0</td>\n",
       "      <td>0</td>\n",
       "      <td>...</td>\n",
       "      <td>0</td>\n",
       "      <td>0</td>\n",
       "      <td>0</td>\n",
       "      <td>1</td>\n",
       "      <td>0</td>\n",
       "      <td>0</td>\n",
       "      <td>0</td>\n",
       "      <td>0</td>\n",
       "      <td>0</td>\n",
       "      <td>0</td>\n",
       "    </tr>\n",
       "    <tr>\n",
       "      <th>1</th>\n",
       "      <td>-0.277195</td>\n",
       "      <td>-0.741415</td>\n",
       "      <td>0</td>\n",
       "      <td>0</td>\n",
       "      <td>0</td>\n",
       "      <td>0</td>\n",
       "      <td>0</td>\n",
       "      <td>0</td>\n",
       "      <td>0</td>\n",
       "      <td>0</td>\n",
       "      <td>...</td>\n",
       "      <td>0</td>\n",
       "      <td>0</td>\n",
       "      <td>0</td>\n",
       "      <td>0</td>\n",
       "      <td>0</td>\n",
       "      <td>0</td>\n",
       "      <td>0</td>\n",
       "      <td>0</td>\n",
       "      <td>0</td>\n",
       "      <td>1</td>\n",
       "    </tr>\n",
       "    <tr>\n",
       "      <th>2</th>\n",
       "      <td>-0.277195</td>\n",
       "      <td>1.961120</td>\n",
       "      <td>0</td>\n",
       "      <td>0</td>\n",
       "      <td>0</td>\n",
       "      <td>0</td>\n",
       "      <td>0</td>\n",
       "      <td>0</td>\n",
       "      <td>0</td>\n",
       "      <td>0</td>\n",
       "      <td>...</td>\n",
       "      <td>0</td>\n",
       "      <td>0</td>\n",
       "      <td>0</td>\n",
       "      <td>0</td>\n",
       "      <td>0</td>\n",
       "      <td>0</td>\n",
       "      <td>1</td>\n",
       "      <td>0</td>\n",
       "      <td>0</td>\n",
       "      <td>0</td>\n",
       "    </tr>\n",
       "    <tr>\n",
       "      <th>3</th>\n",
       "      <td>-0.277195</td>\n",
       "      <td>0.159430</td>\n",
       "      <td>0</td>\n",
       "      <td>0</td>\n",
       "      <td>0</td>\n",
       "      <td>0</td>\n",
       "      <td>0</td>\n",
       "      <td>0</td>\n",
       "      <td>0</td>\n",
       "      <td>0</td>\n",
       "      <td>...</td>\n",
       "      <td>1</td>\n",
       "      <td>0</td>\n",
       "      <td>0</td>\n",
       "      <td>0</td>\n",
       "      <td>0</td>\n",
       "      <td>0</td>\n",
       "      <td>0</td>\n",
       "      <td>0</td>\n",
       "      <td>0</td>\n",
       "      <td>0</td>\n",
       "    </tr>\n",
       "    <tr>\n",
       "      <th>4</th>\n",
       "      <td>-0.277195</td>\n",
       "      <td>-0.741415</td>\n",
       "      <td>0</td>\n",
       "      <td>0</td>\n",
       "      <td>0</td>\n",
       "      <td>0</td>\n",
       "      <td>0</td>\n",
       "      <td>0</td>\n",
       "      <td>0</td>\n",
       "      <td>0</td>\n",
       "      <td>...</td>\n",
       "      <td>0</td>\n",
       "      <td>0</td>\n",
       "      <td>1</td>\n",
       "      <td>0</td>\n",
       "      <td>0</td>\n",
       "      <td>0</td>\n",
       "      <td>0</td>\n",
       "      <td>0</td>\n",
       "      <td>0</td>\n",
       "      <td>0</td>\n",
       "    </tr>\n",
       "  </tbody>\n",
       "</table>\n",
       "<p>5 rows × 46 columns</p>\n",
       "</div>"
      ],
      "text/plain": [
       "   NUM_FALLECIDO  NUM_LESIONADO  PROVINCIA_1  PROVINCIA_2  PROVINCIA_3  \\\n",
       "0      -0.277195      -0.741415            0            0            0   \n",
       "1      -0.277195      -0.741415            0            0            0   \n",
       "2      -0.277195       1.961120            0            0            0   \n",
       "3      -0.277195       0.159430            0            0            0   \n",
       "4      -0.277195      -0.741415            0            0            0   \n",
       "\n",
       "   PROVINCIA_4  PROVINCIA_5  PROVINCIA_6  PROVINCIA_7  PROVINCIA_8  ...  \\\n",
       "0            0            0            0            0            0  ...   \n",
       "1            0            0            0            0            0  ...   \n",
       "2            0            0            0            0            0  ...   \n",
       "3            0            0            0            0            0  ...   \n",
       "4            0            0            0            0            0  ...   \n",
       "\n",
       "   CAUSA_1  CAUSA_2  CAUSA_3  CAUSA_4  CAUSA_5  CAUSA_6  CAUSA_7  CAUSA_8  \\\n",
       "0        0        0        0        1        0        0        0        0   \n",
       "1        0        0        0        0        0        0        0        0   \n",
       "2        0        0        0        0        0        0        1        0   \n",
       "3        1        0        0        0        0        0        0        0   \n",
       "4        0        0        1        0        0        0        0        0   \n",
       "\n",
       "   CAUSA_9  CAUSA_10  \n",
       "0        0         0  \n",
       "1        0         1  \n",
       "2        0         0  \n",
       "3        0         0  \n",
       "4        0         0  \n",
       "\n",
       "[5 rows x 46 columns]"
      ]
     },
     "execution_count": 32,
     "metadata": {},
     "output_type": "execute_result"
    }
   ],
   "source": [
    "numerical_data_scaled.reset_index(drop=True, inplace=True)\n",
    "transform_cat_data.reset_index(drop=True, inplace=True)\n",
    "data_unified = numerical_data_scaled.join(transform_cat_data)\n",
    "data_unified.head()"
   ]
  },
  {
   "cell_type": "code",
   "execution_count": 33,
   "metadata": {},
   "outputs": [
    {
     "data": {
      "text/html": [
       "<div>\n",
       "<style scoped>\n",
       "    .dataframe tbody tr th:only-of-type {\n",
       "        vertical-align: middle;\n",
       "    }\n",
       "\n",
       "    .dataframe tbody tr th {\n",
       "        vertical-align: top;\n",
       "    }\n",
       "\n",
       "    .dataframe thead th {\n",
       "        text-align: right;\n",
       "    }\n",
       "</style>\n",
       "<table border=\"1\" class=\"dataframe\">\n",
       "  <thead>\n",
       "    <tr style=\"text-align: right;\">\n",
       "      <th></th>\n",
       "      <th>NUM_FALLECIDO</th>\n",
       "      <th>NUM_LESIONADO</th>\n",
       "      <th>PROVINCIA_1</th>\n",
       "      <th>PROVINCIA_2</th>\n",
       "      <th>PROVINCIA_3</th>\n",
       "      <th>PROVINCIA_4</th>\n",
       "      <th>PROVINCIA_5</th>\n",
       "      <th>PROVINCIA_6</th>\n",
       "      <th>PROVINCIA_7</th>\n",
       "      <th>PROVINCIA_8</th>\n",
       "      <th>...</th>\n",
       "      <th>CAUSA_1</th>\n",
       "      <th>CAUSA_2</th>\n",
       "      <th>CAUSA_3</th>\n",
       "      <th>CAUSA_4</th>\n",
       "      <th>CAUSA_5</th>\n",
       "      <th>CAUSA_6</th>\n",
       "      <th>CAUSA_7</th>\n",
       "      <th>CAUSA_8</th>\n",
       "      <th>CAUSA_9</th>\n",
       "      <th>CAUSA_10</th>\n",
       "    </tr>\n",
       "  </thead>\n",
       "  <tbody>\n",
       "    <tr>\n",
       "      <th>count</th>\n",
       "      <td>2.377700e+04</td>\n",
       "      <td>2.377700e+04</td>\n",
       "      <td>23777.000000</td>\n",
       "      <td>23777.000000</td>\n",
       "      <td>23777.000000</td>\n",
       "      <td>23777.000000</td>\n",
       "      <td>23777.000000</td>\n",
       "      <td>23777.000000</td>\n",
       "      <td>23777.000000</td>\n",
       "      <td>23777.000000</td>\n",
       "      <td>...</td>\n",
       "      <td>23777.000000</td>\n",
       "      <td>23777.000000</td>\n",
       "      <td>23777.000000</td>\n",
       "      <td>23777.000000</td>\n",
       "      <td>23777.000000</td>\n",
       "      <td>23777.000000</td>\n",
       "      <td>23777.000000</td>\n",
       "      <td>23777.000000</td>\n",
       "      <td>23777.000000</td>\n",
       "      <td>23777.000000</td>\n",
       "    </tr>\n",
       "    <tr>\n",
       "      <th>mean</th>\n",
       "      <td>3.227431e-17</td>\n",
       "      <td>-8.367412e-17</td>\n",
       "      <td>0.052193</td>\n",
       "      <td>0.005636</td>\n",
       "      <td>0.003365</td>\n",
       "      <td>0.003659</td>\n",
       "      <td>0.005089</td>\n",
       "      <td>0.024141</td>\n",
       "      <td>0.021702</td>\n",
       "      <td>0.007991</td>\n",
       "      <td>...</td>\n",
       "      <td>0.074694</td>\n",
       "      <td>0.072507</td>\n",
       "      <td>0.154771</td>\n",
       "      <td>0.486815</td>\n",
       "      <td>0.051689</td>\n",
       "      <td>0.007150</td>\n",
       "      <td>0.125289</td>\n",
       "      <td>0.009673</td>\n",
       "      <td>0.009253</td>\n",
       "      <td>0.008159</td>\n",
       "    </tr>\n",
       "    <tr>\n",
       "      <th>std</th>\n",
       "      <td>1.000021e+00</td>\n",
       "      <td>1.000021e+00</td>\n",
       "      <td>0.222421</td>\n",
       "      <td>0.074861</td>\n",
       "      <td>0.057909</td>\n",
       "      <td>0.060380</td>\n",
       "      <td>0.071157</td>\n",
       "      <td>0.153490</td>\n",
       "      <td>0.145711</td>\n",
       "      <td>0.089036</td>\n",
       "      <td>...</td>\n",
       "      <td>0.262903</td>\n",
       "      <td>0.259331</td>\n",
       "      <td>0.361694</td>\n",
       "      <td>0.499837</td>\n",
       "      <td>0.221402</td>\n",
       "      <td>0.084255</td>\n",
       "      <td>0.331053</td>\n",
       "      <td>0.097878</td>\n",
       "      <td>0.095747</td>\n",
       "      <td>0.089961</td>\n",
       "    </tr>\n",
       "    <tr>\n",
       "      <th>min</th>\n",
       "      <td>-2.771953e-01</td>\n",
       "      <td>-7.414155e-01</td>\n",
       "      <td>0.000000</td>\n",
       "      <td>0.000000</td>\n",
       "      <td>0.000000</td>\n",
       "      <td>0.000000</td>\n",
       "      <td>0.000000</td>\n",
       "      <td>0.000000</td>\n",
       "      <td>0.000000</td>\n",
       "      <td>0.000000</td>\n",
       "      <td>...</td>\n",
       "      <td>0.000000</td>\n",
       "      <td>0.000000</td>\n",
       "      <td>0.000000</td>\n",
       "      <td>0.000000</td>\n",
       "      <td>0.000000</td>\n",
       "      <td>0.000000</td>\n",
       "      <td>0.000000</td>\n",
       "      <td>0.000000</td>\n",
       "      <td>0.000000</td>\n",
       "      <td>0.000000</td>\n",
       "    </tr>\n",
       "    <tr>\n",
       "      <th>25%</th>\n",
       "      <td>-2.771953e-01</td>\n",
       "      <td>-7.414155e-01</td>\n",
       "      <td>0.000000</td>\n",
       "      <td>0.000000</td>\n",
       "      <td>0.000000</td>\n",
       "      <td>0.000000</td>\n",
       "      <td>0.000000</td>\n",
       "      <td>0.000000</td>\n",
       "      <td>0.000000</td>\n",
       "      <td>0.000000</td>\n",
       "      <td>...</td>\n",
       "      <td>0.000000</td>\n",
       "      <td>0.000000</td>\n",
       "      <td>0.000000</td>\n",
       "      <td>0.000000</td>\n",
       "      <td>0.000000</td>\n",
       "      <td>0.000000</td>\n",
       "      <td>0.000000</td>\n",
       "      <td>0.000000</td>\n",
       "      <td>0.000000</td>\n",
       "      <td>0.000000</td>\n",
       "    </tr>\n",
       "    <tr>\n",
       "      <th>50%</th>\n",
       "      <td>-2.771953e-01</td>\n",
       "      <td>1.594295e-01</td>\n",
       "      <td>0.000000</td>\n",
       "      <td>0.000000</td>\n",
       "      <td>0.000000</td>\n",
       "      <td>0.000000</td>\n",
       "      <td>0.000000</td>\n",
       "      <td>0.000000</td>\n",
       "      <td>0.000000</td>\n",
       "      <td>0.000000</td>\n",
       "      <td>...</td>\n",
       "      <td>0.000000</td>\n",
       "      <td>0.000000</td>\n",
       "      <td>0.000000</td>\n",
       "      <td>0.000000</td>\n",
       "      <td>0.000000</td>\n",
       "      <td>0.000000</td>\n",
       "      <td>0.000000</td>\n",
       "      <td>0.000000</td>\n",
       "      <td>0.000000</td>\n",
       "      <td>0.000000</td>\n",
       "    </tr>\n",
       "    <tr>\n",
       "      <th>75%</th>\n",
       "      <td>-2.771953e-01</td>\n",
       "      <td>1.594295e-01</td>\n",
       "      <td>0.000000</td>\n",
       "      <td>0.000000</td>\n",
       "      <td>0.000000</td>\n",
       "      <td>0.000000</td>\n",
       "      <td>0.000000</td>\n",
       "      <td>0.000000</td>\n",
       "      <td>0.000000</td>\n",
       "      <td>0.000000</td>\n",
       "      <td>...</td>\n",
       "      <td>0.000000</td>\n",
       "      <td>0.000000</td>\n",
       "      <td>0.000000</td>\n",
       "      <td>1.000000</td>\n",
       "      <td>0.000000</td>\n",
       "      <td>0.000000</td>\n",
       "      <td>0.000000</td>\n",
       "      <td>0.000000</td>\n",
       "      <td>0.000000</td>\n",
       "      <td>0.000000</td>\n",
       "    </tr>\n",
       "    <tr>\n",
       "      <th>max</th>\n",
       "      <td>2.393170e+01</td>\n",
       "      <td>3.078816e+01</td>\n",
       "      <td>1.000000</td>\n",
       "      <td>1.000000</td>\n",
       "      <td>1.000000</td>\n",
       "      <td>1.000000</td>\n",
       "      <td>1.000000</td>\n",
       "      <td>1.000000</td>\n",
       "      <td>1.000000</td>\n",
       "      <td>1.000000</td>\n",
       "      <td>...</td>\n",
       "      <td>1.000000</td>\n",
       "      <td>1.000000</td>\n",
       "      <td>1.000000</td>\n",
       "      <td>1.000000</td>\n",
       "      <td>1.000000</td>\n",
       "      <td>1.000000</td>\n",
       "      <td>1.000000</td>\n",
       "      <td>1.000000</td>\n",
       "      <td>1.000000</td>\n",
       "      <td>1.000000</td>\n",
       "    </tr>\n",
       "  </tbody>\n",
       "</table>\n",
       "<p>8 rows × 46 columns</p>\n",
       "</div>"
      ],
      "text/plain": [
       "       NUM_FALLECIDO  NUM_LESIONADO   PROVINCIA_1   PROVINCIA_2   PROVINCIA_3  \\\n",
       "count   2.377700e+04   2.377700e+04  23777.000000  23777.000000  23777.000000   \n",
       "mean    3.227431e-17  -8.367412e-17      0.052193      0.005636      0.003365   \n",
       "std     1.000021e+00   1.000021e+00      0.222421      0.074861      0.057909   \n",
       "min    -2.771953e-01  -7.414155e-01      0.000000      0.000000      0.000000   \n",
       "25%    -2.771953e-01  -7.414155e-01      0.000000      0.000000      0.000000   \n",
       "50%    -2.771953e-01   1.594295e-01      0.000000      0.000000      0.000000   \n",
       "75%    -2.771953e-01   1.594295e-01      0.000000      0.000000      0.000000   \n",
       "max     2.393170e+01   3.078816e+01      1.000000      1.000000      1.000000   \n",
       "\n",
       "        PROVINCIA_4   PROVINCIA_5   PROVINCIA_6   PROVINCIA_7   PROVINCIA_8  \\\n",
       "count  23777.000000  23777.000000  23777.000000  23777.000000  23777.000000   \n",
       "mean       0.003659      0.005089      0.024141      0.021702      0.007991   \n",
       "std        0.060380      0.071157      0.153490      0.145711      0.089036   \n",
       "min        0.000000      0.000000      0.000000      0.000000      0.000000   \n",
       "25%        0.000000      0.000000      0.000000      0.000000      0.000000   \n",
       "50%        0.000000      0.000000      0.000000      0.000000      0.000000   \n",
       "75%        0.000000      0.000000      0.000000      0.000000      0.000000   \n",
       "max        1.000000      1.000000      1.000000      1.000000      1.000000   \n",
       "\n",
       "       ...       CAUSA_1       CAUSA_2       CAUSA_3       CAUSA_4  \\\n",
       "count  ...  23777.000000  23777.000000  23777.000000  23777.000000   \n",
       "mean   ...      0.074694      0.072507      0.154771      0.486815   \n",
       "std    ...      0.262903      0.259331      0.361694      0.499837   \n",
       "min    ...      0.000000      0.000000      0.000000      0.000000   \n",
       "25%    ...      0.000000      0.000000      0.000000      0.000000   \n",
       "50%    ...      0.000000      0.000000      0.000000      0.000000   \n",
       "75%    ...      0.000000      0.000000      0.000000      1.000000   \n",
       "max    ...      1.000000      1.000000      1.000000      1.000000   \n",
       "\n",
       "            CAUSA_5       CAUSA_6       CAUSA_7       CAUSA_8       CAUSA_9  \\\n",
       "count  23777.000000  23777.000000  23777.000000  23777.000000  23777.000000   \n",
       "mean       0.051689      0.007150      0.125289      0.009673      0.009253   \n",
       "std        0.221402      0.084255      0.331053      0.097878      0.095747   \n",
       "min        0.000000      0.000000      0.000000      0.000000      0.000000   \n",
       "25%        0.000000      0.000000      0.000000      0.000000      0.000000   \n",
       "50%        0.000000      0.000000      0.000000      0.000000      0.000000   \n",
       "75%        0.000000      0.000000      0.000000      0.000000      0.000000   \n",
       "max        1.000000      1.000000      1.000000      1.000000      1.000000   \n",
       "\n",
       "           CAUSA_10  \n",
       "count  23777.000000  \n",
       "mean       0.008159  \n",
       "std        0.089961  \n",
       "min        0.000000  \n",
       "25%        0.000000  \n",
       "50%        0.000000  \n",
       "75%        0.000000  \n",
       "max        1.000000  \n",
       "\n",
       "[8 rows x 46 columns]"
      ]
     },
     "execution_count": 33,
     "metadata": {},
     "output_type": "execute_result"
    }
   ],
   "source": [
    "data_unified.describe()"
   ]
  },
  {
   "cell_type": "code",
   "execution_count": 34,
   "metadata": {},
   "outputs": [
    {
     "data": {
      "text/plain": [
       "(23777, 46)"
      ]
     },
     "execution_count": 34,
     "metadata": {},
     "output_type": "execute_result"
    }
   ],
   "source": [
    "data_unified.shape"
   ]
  },
  {
   "cell_type": "code",
   "execution_count": 35,
   "metadata": {},
   "outputs": [
    {
     "data": {
      "text/plain": [
       "(23777, 46)"
      ]
     },
     "execution_count": 35,
     "metadata": {},
     "output_type": "execute_result"
    }
   ],
   "source": [
    "data_unified.dropna(inplace=True)\n",
    "data_unified.shape"
   ]
  },
  {
   "cell_type": "code",
   "execution_count": 36,
   "metadata": {},
   "outputs": [
    {
     "data": {
      "text/plain": [
       "(3023, 46)"
      ]
     },
     "execution_count": 36,
     "metadata": {},
     "output_type": "execute_result"
    }
   ],
   "source": [
    "data_unified.drop_duplicates(inplace=True)\n",
    "data_unified.shape"
   ]
  },
  {
   "cell_type": "markdown",
   "metadata": {},
   "source": [
    "El dataset final se denomina **siniestros-bdd-transform**.\n"
   ]
  },
  {
   "cell_type": "code",
   "execution_count": 37,
   "metadata": {},
   "outputs": [],
   "source": [
    "data_unified.to_csv('data/siniestros-bdd-transform.csv', index=False)"
   ]
  }
 ],
 "metadata": {
  "kernelspec": {
   "display_name": "Python 3 (ipykernel)",
   "language": "python",
   "name": "python3"
  },
  "language_info": {
   "codemirror_mode": {
    "name": "ipython",
    "version": 3
   },
   "file_extension": ".py",
   "mimetype": "text/x-python",
   "name": "python",
   "nbconvert_exporter": "python",
   "pygments_lexer": "ipython3",
   "version": "3.11.7"
  }
 },
 "nbformat": 4,
 "nbformat_minor": 4
}
