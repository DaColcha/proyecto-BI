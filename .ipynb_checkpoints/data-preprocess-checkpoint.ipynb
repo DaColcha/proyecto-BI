{
 "cells": [
  {
   "cell_type": "markdown",
   "metadata": {},
   "source": [
    "### Exloración de datos "
   ]
  },
  {
   "cell_type": "code",
   "execution_count": null,
   "metadata": {},
   "outputs": [],
   "source": [
    "import pandas as pd\n",
    "import matplotlib.pyplot as plt"
   ]
  },
  {
   "cell_type": "code",
   "execution_count": null,
   "metadata": {},
   "outputs": [],
   "source": [
    "data = pd.read_csv('data/siniestros-bdd.csv', encoding='utf-8', sep=';')\n",
    "data.columns"
   ]
  },
  {
   "cell_type": "code",
   "execution_count": null,
   "metadata": {},
   "outputs": [],
   "source": [
    "data.shape"
   ]
  },
  {
   "cell_type": "code",
   "execution_count": null,
   "metadata": {},
   "outputs": [],
   "source": [
    "data.head()"
   ]
  },
  {
   "cell_type": "code",
   "execution_count": null,
   "metadata": {},
   "outputs": [],
   "source": [
    "data.info()"
   ]
  },
  {
   "cell_type": "code",
   "execution_count": null,
   "metadata": {},
   "outputs": [],
   "source": [
    "data.isnull().sum()"
   ]
  },
  {
   "cell_type": "code",
   "execution_count": null,
   "metadata": {},
   "outputs": [],
   "source": [
    "data.duplicated().sum()"
   ]
  },
  {
   "cell_type": "code",
   "execution_count": null,
   "metadata": {},
   "outputs": [],
   "source": [
    "data.drop_duplicates(inplace=True)\n",
    "data.shape"
   ]
  },
  {
   "cell_type": "code",
   "execution_count": null,
   "metadata": {},
   "outputs": [],
   "source": [
    "for col in data.columns:\n",
    "    print(f\"{col}: {data[col].value_counts().count()}\")"
   ]
  },
  {
   "cell_type": "code",
   "execution_count": null,
   "metadata": {},
   "outputs": [],
   "source": [
    "data = data.drop(columns=['CANTON', 'MES'])"
   ]
  },
  {
   "cell_type": "code",
   "execution_count": null,
   "metadata": {},
   "outputs": [],
   "source": [
    "categories = ['DIA', 'HORA', 'PROVINCIA', 'ZONA', 'CLASE', 'CAUSA']\n",
    "for cat in categories:\n",
    "    data[cat] = data[cat].astype('category')\n",
    "\n",
    "data.info()"
   ]
  },
  {
   "cell_type": "markdown",
   "metadata": {},
   "source": [
    "## Visualización de datos"
   ]
  },
  {
   "cell_type": "markdown",
   "metadata": {},
   "source": [
    "### Mapeo de etiquetas"
   ]
  },
  {
   "cell_type": "code",
   "execution_count": null,
   "metadata": {},
   "outputs": [],
   "source": [
    "clase_siniestro_dict = {\n",
    "    1: 'Atropellos',\n",
    "    2: 'Caída de pasajero',\n",
    "    3: 'Choques',\n",
    "    4: 'Estrellamientos',\n",
    "    5: 'Rozamientos',\n",
    "    6: 'Volcamientos',\n",
    "    7: 'Pérdida de pista',\n",
    "    8: 'Otros'\n",
    "}\n",
    "\n",
    "clase_siniestro_mapped = data['CLASE'].map(clase_siniestro_dict )\n",
    "clase_siniestro_mapped.value_counts()"
   ]
  },
  {
   "cell_type": "code",
   "execution_count": null,
   "metadata": {},
   "outputs": [],
   "source": [
    "causa_siniestro_dict = {1:\"EMBRIAGUEZ O DROGA\",\n",
    "2:\"MAL REBASAMIENTO INVADIR CARRIL\",\n",
    "3:\"EXCESO VELOCIDAD\",\n",
    "4:\"IMPERICIA E IMPRUDENCIA DEL CONDUCTOR\",\n",
    "5:\"IMPRUDENCIA  DEL PEATÓN\",\n",
    "6:\"DAÑOS MECÁNICOS\",\n",
    "7:\"NO RESPETA LAS SEÑALES DE TRÁNSITO\",\n",
    "8:\"FACTORES CLIMÁTICOS\",\n",
    "9:\"MAL ESTADO DE LA VÍA\",\n",
    "10:\"OTRAS CAUSAS\"}\n",
    "\n",
    "causa_siniestro_mapped = data['CAUSA'].map(causa_siniestro_dict)\n",
    "causa_siniestro_mapped.value_counts()"
   ]
  },
  {
   "cell_type": "code",
   "execution_count": null,
   "metadata": {},
   "outputs": [],
   "source": [
    "data_labels = data.assign(CLASE_LABEL=clase_siniestro_mapped, CAUSA_LABEL=causa_siniestro_mapped)\n",
    "data_labels.head()"
   ]
  },
  {
   "cell_type": "markdown",
   "metadata": {},
   "source": [
    "### Visualización"
   ]
  },
  {
   "cell_type": "code",
   "execution_count": null,
   "metadata": {},
   "outputs": [],
   "source": [
    "total_vict_data = data_labels[\"TOTAL_VICTIMAS\"].value_counts().sort_index()\n",
    "fig = total_vict_data.sort_values(ascending=False).head(12).plot(kind='bar')\n",
    "\n",
    "plt.title('Total Victimas por siniestro')\n",
    "plt.bar_label(fig.containers[0])"
   ]
  },
  {
   "cell_type": "code",
   "execution_count": null,
   "metadata": {},
   "outputs": [],
   "source": [
    "fallecidos_data = data_labels[\"NUM_FALLECIDO\"].value_counts().sort_index()\n",
    "fallecidos_data.sort_values(ascending=False).head(12).plot(kind='bar')\n",
    "\n",
    "plt.title('Número fallecidos por siniestro')\n",
    "plt.bar_label(plt.bar(fallecidos_data.index, fallecidos_data.values))"
   ]
  },
  {
   "cell_type": "code",
   "execution_count": null,
   "metadata": {},
   "outputs": [],
   "source": [
    "horas = {\n",
    "    0: \"00:00 A 00:59\",\n",
    "    1: \"01:00 A 01:59\",\n",
    "    2: \"02:00 A 02:59\",\n",
    "    3: \"03:00 A 03:59\",\n",
    "    4: \"04:00 A 04:59\",\n",
    "    5: \"05:00 A 05:59\",\n",
    "    6: \"06:00 A 06:59\",\n",
    "    7: \"07:00 A 07:59\",\n",
    "    8: \"08:00 A 08:59\",\n",
    "    9: \"09:00 A 09:59\",\n",
    "    10: \"10:00 A 10:59\",\n",
    "    11: \"11:00 A 11:59\",\n",
    "    12: \"12:00 A 12:59\",\n",
    "    13: \"13:00 A 13:59\",\n",
    "    14: \"14:00 A 14:59\",\n",
    "    15: \"15:00 A 15:59\",\n",
    "    16: \"16:00 A 16:59\",\n",
    "    17: \"17:00 A 17:59\",\n",
    "    18: \"18:00 A 18:59\",\n",
    "    19: \"19:00 A 19:59\",\n",
    "    20: \"20:00 A 20:59\",\n",
    "    21: \"21:00 A 21:59\",\n",
    "    22: \"22:00 A 22:59\",\n",
    "    23: \"23:00 A 23:59\"\n",
    "}\n",
    "\n",
    "horas_data = data_labels[\"HORA\"].value_counts().sort_index()\n",
    "horas_data.index = horas_data.index.map(horas)\n",
    "\n",
    "fig = horas_data.sort_values(ascending=False).head(8).plot(kind='bar')\n",
    "\n",
    "plt.title('Horas con mayor número de siniestros')\n",
    "plt.xticks(rotation=50)\n",
    "plt.bar_label(fig.containers[0],label_type='edge')"
   ]
  },
  {
   "cell_type": "code",
   "execution_count": null,
   "metadata": {},
   "outputs": [],
   "source": [
    "data_labels[\"CAUSA_LABEL\"].value_counts().sort_index().plot(kind='barh')\n",
    "\n",
    "plt.title('Total de victimas por siniestro')\n"
   ]
  },
  {
   "cell_type": "code",
   "execution_count": null,
   "metadata": {},
   "outputs": [],
   "source": [
    "dia_percent = data_labels['DIA'].value_counts().sort_index()\n",
    "dia_percent = round(dia_percent / dia_percent.sum() * 100,2)\n",
    "dia_percent.plot(kind='pie', labels = [\"Lunes\", \"Martes\", \"Miércoles\", \"Jueves\", \"Viernes\", \"Sábado\", \"Domingo\"], autopct='%1.1f%%')\n",
    "\n",
    "plt.title('Siniestros por día')"
   ]
  },
  {
   "cell_type": "code",
   "execution_count": null,
   "metadata": {},
   "outputs": [],
   "source": [
    "clase_zona = data_labels.groupby(['CLASE_LABEL', 'ZONA']).size().unstack()\n",
    "\n",
    "clase_zona.plot(kind='barh')\n",
    "plt.legend(title='Zona', labels = [\"Urbana\", \"Rural\"])\n"
   ]
  },
  {
   "cell_type": "markdown",
   "metadata": {},
   "source": [
    "## Preparación de datos"
   ]
  },
  {
   "cell_type": "code",
   "execution_count": null,
   "metadata": {},
   "outputs": [],
   "source": [
    "data_prep = pd.read_csv('data/siniestros-bdd.csv', encoding='utf-8', sep=';')\n",
    "data_prep.columns"
   ]
  },
  {
   "cell_type": "code",
   "execution_count": null,
   "metadata": {},
   "outputs": [],
   "source": [
    "data_prep.shape"
   ]
  },
  {
   "cell_type": "code",
   "execution_count": null,
   "metadata": {},
   "outputs": [],
   "source": [
    "# Establecemos la columna de severidad basado en el numero y tipo de victimas\n",
    "# Donde Leve = 1, Moderado = 2 y Severo = 3\n",
    "import numpy as np\n",
    "data_prep['SEVERIDAD'] = np.where(\n",
    "    (data_prep['NUM_FALLECIDO'] == 0) & (data_prep['NUM_LESIONADO'] == 0), 1,\n",
    "    np.where((data_prep['NUM_LESIONADO'] > 0) & (data_prep['NUM_FALLECIDO'] == 0), 2,\n",
    "     3)\n",
    ")"
   ]
  },
  {
   "cell_type": "code",
   "execution_count": null,
   "metadata": {},
   "outputs": [],
   "source": [
    "data_prep['SEVERIDAD'].value_counts()"
   ]
  },
  {
   "cell_type": "code",
   "execution_count": null,
   "metadata": {},
   "outputs": [],
   "source": [
    "import seaborn as sns\n",
    "corrmat = data_prep.corr(method='pearson')\n",
    "top_corr_features = corrmat.index\n",
    "\n",
    "plt.figure(figsize=(20,20))\n",
    "\n",
    "g=sns.heatmap(data_prep[top_corr_features].corr(),annot=True,cmap=\"RdYlGn\")"
   ]
  },
  {
   "cell_type": "code",
   "execution_count": null,
   "metadata": {},
   "outputs": [],
   "source": [
    "data_prep = data_prep.drop(columns=['CAUSA','NUM_LESIONADO','MES','NUM_FALLECIDO','TOTAL_VICTIMAS', 'CANTON'])"
   ]
  },
  {
   "cell_type": "code",
   "execution_count": null,
   "metadata": {},
   "outputs": [],
   "source": [
    "data_prep.columns"
   ]
  },
  {
   "cell_type": "code",
   "execution_count": null,
   "metadata": {},
   "outputs": [],
   "source": [
    "categories = ['DIA', 'HORA', 'PROVINCIA', 'CLASE','SEVERIDAD']\n",
    "for cat in categories:\n",
    "    data_prep[cat] = data_prep[cat].astype('category')\n",
    "data_prep.info()"
   ]
  },
  {
   "cell_type": "code",
   "execution_count": null,
   "metadata": {},
   "outputs": [],
   "source": [
    "data_prep.duplicated().sum()"
   ]
  },
  {
   "cell_type": "code",
   "execution_count": null,
   "metadata": {},
   "outputs": [],
   "source": [
    "data_prep.drop_duplicates(inplace=True)"
   ]
  },
  {
   "cell_type": "markdown",
   "metadata": {},
   "source": [
    "## TRASNFORMACIÓN"
   ]
  },
  {
   "cell_type": "code",
   "execution_count": null,
   "metadata": {},
   "outputs": [],
   "source": [
    "data_prep.shape"
   ]
  },
  {
   "cell_type": "code",
   "execution_count": null,
   "metadata": {},
   "outputs": [],
   "source": [
    "data_test, data_train = data_prep.sample(frac=0.2), data_prep.sample(frac=0.8)"
   ]
  },
  {
   "cell_type": "markdown",
   "metadata": {},
   "source": [
    "El dataset final se denomina **siniestros-bdd-transform**.\n"
   ]
  },
  {
   "cell_type": "code",
   "execution_count": null,
   "metadata": {},
   "outputs": [],
   "source": [
    "data_train.to_csv('data/siniestros-bdd-train2.csv', index=False)\n",
    "data_test.to_csv('data/siniestros-bdd-test2.csv', index=False)"
   ]
  },
  {
   "cell_type": "code",
   "execution_count": null,
   "metadata": {},
   "outputs": [],
   "source": []
  },
  {
   "cell_type": "code",
   "execution_count": null,
   "metadata": {},
   "outputs": [],
   "source": []
  }
 ],
 "metadata": {
  "kernelspec": {
   "display_name": "Python 3 (ipykernel)",
   "language": "python",
   "name": "python3"
  },
  "language_info": {
   "codemirror_mode": {
    "name": "ipython",
    "version": 3
   },
   "file_extension": ".py",
   "mimetype": "text/x-python",
   "name": "python",
   "nbconvert_exporter": "python",
   "pygments_lexer": "ipython3",
   "version": "3.11.7"
  }
 },
 "nbformat": 4,
 "nbformat_minor": 4
}
